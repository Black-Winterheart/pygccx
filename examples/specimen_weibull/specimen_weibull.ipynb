{
 "cells": [
  {
   "cell_type": "markdown",
   "metadata": {},
   "source": [
    "# Equivalent stressed volume of a fatigue specimen\n",
    "### Problem Description\n",
    "The notched fatigue specimen shown below is subjected to alternating tension / compression.\n",
    "For the determination of the size factor, the equivalent stressed volume should be evaluated.\n",
    "\n",
    "<img src=\"specimen_3d.png\" height=450>\n",
    "<img src=\"specimen.png\" height=450>\n",
    "\n",
    "The equivalent stresses volume is calculated by:\n",
    "$$V_{eqv} = \\int\\limits_{V} \\left(\\frac{\\sigma}{\\sigma_{max}}\\right)^m dV$$\n",
    "with $m$ as the weibull modulus. For steel this value is assumed to be 30.<br>\n",
    "Due to discretisation the integral is transfered into a sum over all elements:\n",
    "$$V_{eqv} = \\sum_{i=1}^n \\left(\\frac{\\sigma_i}{\\sigma_{max}}\\right)^m V_i$$\n",
    "\n",
    "Because of the term $\\frac{\\sigma_i}{\\sigma_{max}}$ the magnitude of the loading is arbitrary, as long as defomations are small."
   ]
  },
  {
   "cell_type": "code",
   "execution_count": null,
   "metadata": {},
   "outputs": [
    {
     "ename": "",
     "evalue": "",
     "output_type": "error",
     "traceback": [
      "\u001b[1;31mRunning cells with 'venv310 (Python 3.10.11)' requires the ipykernel package.\n",
      "\u001b[1;31mRun the following command to install 'ipykernel' into the Python environment. \n",
      "\u001b[1;31mCommand: 'd:/GitHub/pygccx_project/venv310/Scripts/python.exe -m pip install ipykernel -U --force-reinstall'"
     ]
    }
   ],
   "source": [
    "import os\n",
    "\n",
    "from pygccx import model as ccx_model\n",
    "from pygccx import enums\n",
    "from pygccx import model_keywords as mk\n",
    "from pygccx import step_keywords as sk\n",
    "from pygccx.tools import stress_tools as st\n",
    "\n",
    "import numpy as np"
   ]
  },
  {
   "cell_type": "code",
   "execution_count": null,
   "metadata": {},
   "outputs": [],
   "source": [
    "# change this paths to your location of ccx and cgx\n",
    "CCX_PATH = os.path.join('../../', 'executables', 'calculix_2.19_4win', 'ccx_static.exe')\n",
    "CGX_PATH = os.path.join('../../', 'executables', 'calculix_2.19_4win', 'cgx_GLUT.exe')\n",
    "\n",
    "model = ccx_model.Model(CCX_PATH, CGX_PATH, jobname='specimen_weibull')"
   ]
  },
  {
   "cell_type": "markdown",
   "metadata": {},
   "source": [
    "### Building the model\n",
    "The specimen is meshed with C3D20R solid elements. Due to symmetry only 1/8 of the whole specimen is modeled.<br>\n",
    "The modelling is done in the function build_model.<br>\n",
    "At first 1/4 of the cross section is modeled in the X-Y plane and then revolved by 90° around the Z-axis.\n",
    "\n",
    "Only one physical group of the whole volume is defined. So all elements and nodes will be transfered to ccx. The sets for load and boundary conditions are generated later.\n",
    "\n",
    "\n",
    "To get a better understanding whats going on in build_model, the point-, line-, and surface numbers of the cross section, as well as some important dimensions are shown in the images below.\n",
    "\n",
    "<img src=\"cross_section_geo.png\" width=\"600\">\n",
    "<img src=\"dimensions.png\" width=\"600\">\n"
   ]
  },
  {
   "cell_type": "code",
   "execution_count": null,
   "metadata": {},
   "outputs": [],
   "source": [
    "def build_model(model:ccx_model.Model, l_n:float, d_n:float, d_k:float, r_k:float, order):\n",
    "    \"\"\"\n",
    "    Builds the model geo and mesh using the gmsh API\n",
    "\n",
    "    Args:\n",
    "        model (ccx_model.Model)\n",
    "        l_n (float): total length of specimen\n",
    "        d_n (float): nominal diameter\n",
    "        d_k (float): diameter at notch root\n",
    "        r_k (float): notch radius\n",
    "        order (int, optional): Element order.\n",
    "    \"\"\"\n",
    "\n",
    "    # calculation of aux variables\n",
    "    t_k = r_k - (d_n - d_k) / 2\n",
    "    r_0 = r_k + d_k / 2\n",
    "    r_1 = (r_k + r_0) / 2\n",
    "    ang = np.arccos(t_k / r_k)\n",
    "    ang_2 = np.arccos(t_k / r_1)\n",
    "\n",
    "    model.clear_gmsh_model()\n",
    "    gmsh = model.get_gmsh()\n",
    "\n",
    "    # Add points of cross section in X-Y-plane.\n",
    "    # most of the time it's more convinent to make a list of 3-tuple\n",
    "    # and send all points at once to the gmsh-API using a for loop\n",
    "    pnts = []\n",
    "    pnts.append((r_0, 0, 0))\n",
    "    pnts.append((0, 0, 0))\n",
    "    pnts.append((r_0 - r_1, 0, 0))\n",
    "    pnts.append((r_0 - r_1 * np.cos(ang / 2), r_1 * np.sin(ang / 2), 0))\n",
    "    pnts.append((r_0 - r_1 * np.cos(ang_2), r_1 * np.sin(ang_2), 0))\n",
    "    pnts.append((r_0 - r_k, 0, 0))\n",
    "    pnts.append((r_0 - r_k * np.cos(ang / 2), r_k * np.sin(ang / 2), 0))\n",
    "    pnts.append((r_0 - r_k * np.cos(ang), r_k * np.sin(ang), 0))\n",
    "    pnts.append((0, pnts[3][1], 0))\n",
    "    pnts.append((0, pnts[4][1], 0))\n",
    "    pnts.append((0, l_n / 2, 0))\n",
    "    pnts.append((d_n / 2, l_n / 2, 0))\n",
    "\n",
    "\n",
    "    for i, p in enumerate(pnts, 1):\n",
    "        gmsh.model.geo.addPoint(*p, tag=i)\n",
    "    \n",
    "    # Add lines\n",
    "    l1 = gmsh.model.geo.addLine(2,3)\n",
    "    l2 = gmsh.model.geo.addCircleArc(3, 1, 4)\n",
    "    l3 = gmsh.model.geo.addCircleArc(4, 1, 5)\n",
    "    l4 = gmsh.model.geo.addLine(3, 6)\n",
    "    l5 = gmsh.model.geo.addCircleArc(6, 1, 7)\n",
    "    l6 = gmsh.model.geo.addCircleArc(7, 1, 8)\n",
    "    l7 = gmsh.model.geo.addLine(8, 5)\n",
    "    l8 = gmsh.model.geo.addLine(7, 4)\n",
    "    l9 = gmsh.model.geo.addLine(4, 9)\n",
    "    l10 = gmsh.model.geo.addLine(9, 2)\n",
    "    l11 = gmsh.model.geo.addLine(5, 10)\n",
    "    l12 = gmsh.model.geo.addLine(10, 9)\n",
    "    l13 = gmsh.model.geo.addLine(5, 12)\n",
    "    l14 = gmsh.model.geo.addLine(12, 11)\n",
    "    l15 = gmsh.model.geo.addLine(11, 10)\n",
    "\n",
    "    # Add line loops\n",
    "    c1 = gmsh.model.geo.addCurveLoop([l1,l2,l9,l10])\n",
    "    c2 = gmsh.model.geo.addCurveLoop([l4,l5,l8,-l2])\n",
    "    c3 = gmsh.model.geo.addCurveLoop([l6,l7,-l3,-l8])\n",
    "    c4 = gmsh.model.geo.addCurveLoop([l3,l11,l12,-l9])\n",
    "    c5 = gmsh.model.geo.addCurveLoop([l13,l14,l15,-l11])\n",
    "\n",
    "    # Add surfaces\n",
    "    surfs = [gmsh.model.geo.addPlaneSurface([c]) for c in [c1,c2,c3,c4,c5]]\n",
    "    # Set all surfaces to transfinite (mapped mesh) and recombine to quads\n",
    "    for s in surfs:\n",
    "        gmsh.model.geo.mesh.setTransfiniteSurface(s)\n",
    "        gmsh.model.geo.mesh.setRecombine(2, s)\n",
    "\n",
    "    # set element subdevisions\n",
    "    for l in [l4,l8,l7]:\n",
    "        gmsh.model.geo.mesh.setTransfiniteCurve(l, 11)\n",
    "    for l in [l1,l9,l11,l14]:\n",
    "        gmsh.model.geo.mesh.setTransfiniteCurve(l, 6)\n",
    "    for l in [l5,l2,l10]:\n",
    "        gmsh.model.geo.mesh.setTransfiniteCurve(l, 16)\n",
    "    for l in [l6,l3,l12]:\n",
    "        gmsh.model.geo.mesh.setTransfiniteCurve(l, 11)\n",
    "    gmsh.model.geo.mesh.setTransfiniteCurve(l13, 11, coef=1.4)\n",
    "    gmsh.model.geo.mesh.setTransfiniteCurve(l15, 11, coef=1/1.4)\n",
    "\n",
    "    # revolve all surfaces by 90° around Z-axis\n",
    "    revs = [(2,s) for s in surfs]\n",
    "    out = gmsh.model.geo.revolve(revs, 0,0,0, 0,1,0, angle=np.pi/2, numElements=[20], recombine=True)\n",
    "    \n",
    "    # put all volumes in a physical group\n",
    "    gmsh.model.add_physical_group(3, [1,2,3,4,5], name='SPECIMEN')\n",
    "    gmsh.model.geo.synchronize()\n",
    "\n",
    "    # generate mesh\n",
    "    gmsh.option.setNumber('Mesh.ElementOrder', order)\n",
    "    gmsh.model.mesh.generate()"
   ]
  },
  {
   "cell_type": "code",
   "execution_count": null,
   "metadata": {},
   "outputs": [],
   "source": [
    "# build model and show in gmsh gui\n",
    "l_n = 100.0\n",
    "d_n = 14.0\n",
    "d_k = 8.0\n",
    "r_k = 10.0\n",
    "build_model(model, l_n, d_n, d_k, r_k, order=2)\n",
    "model.show_gmsh_gui()\n",
    "model.update_mesh_from_gmsh()"
   ]
  },
  {
   "cell_type": "markdown",
   "metadata": {},
   "source": [
    "### Boundary conditions and load\n",
    "The image below shows all applied boundary and load conditions.\n",
    "A symmetry boundary condition is applied on each cut surface, fixing the dof normal to the face.\n",
    "\n",
    "The force is applied using a pilot node, located at (0, l_n/2, 0), which is connected to the end face of the specimen by a kinematic coupling .<br>\n",
    "Only the dof 2 (u_y) is active in the coupling. So the nodes within the coupled face can freely deform in X and Z, but are constrained in Y to the pilot. With this kind of coupling the load is introduced in the model without any stress raisers. <br>\n",
    "However the rotations of the pilot have to be fixed, to keep the end face perpendicular to the Y-axis.\n",
    "\n",
    "<img src=\"boundaries.png\">"
   ]
  },
  {
   "cell_type": "code",
   "execution_count": null,
   "metadata": {},
   "outputs": [],
   "source": [
    "# make sets for symmetry boundaries\n",
    "\n",
    "def isclose(x, value, tol=1e-5):\n",
    "    \"\"\"Helper function to compare floats\"\"\"\n",
    "    return abs(x-value) <= tol\n",
    "\n",
    "# all nodes with x==0, will be fixed in X\n",
    "nx0 = [nid for nid, c in model.mesh.nodes.items() if isclose(c[0], 0)]\n",
    "sym_x = model.mesh.add_set('sym_x', enums.ESetTypes.NODE, nx0)\n",
    "# all nodes with y==0, will be fixed in Y\n",
    "ny0 = [nid for nid, c in model.mesh.nodes.items() if isclose(c[1], 0)]\n",
    "sym_y = model.mesh.add_set('sym_y', enums.ESetTypes.NODE, ny0)\n",
    "# all nodes with z==0, will be fixed in Z\n",
    "nz0 = [nid for nid, c in model.mesh.nodes.items() if isclose(c[2], 0)]\n",
    "sym_z = model.mesh.add_set('sym_z', enums.ESetTypes.NODE, nz0)\n"
   ]
  },
  {
   "cell_type": "code",
   "execution_count": null,
   "metadata": {},
   "outputs": [],
   "source": [
    "# make set for load application\n",
    "# all nodes with y==ln/2\n",
    "nload = [nid for nid, c in model.mesh.nodes.items() if isclose(c[1], l_n / 2)]\n",
    "load = model.mesh.add_set('load', enums.ESetTypes.NODE, nload)"
   ]
  },
  {
   "cell_type": "code",
   "execution_count": null,
   "metadata": {},
   "outputs": [],
   "source": [
    "# add model keywords\n",
    "elset = model.mesh.get_el_set_by_name('SPECIMEN')\n",
    "mat = mk.Material('STEEL')\n",
    "el = mk.Elastic((210000., 0.3))\n",
    "sos = mk.SolidSection(elset, mat)\n",
    "\n",
    "# make pilot and kinematic coupling\n",
    "pilot = model.mesh.add_node((0, l_n/2, 0))\n",
    "load_surf = model.mesh.add_surface_from_node_set('LOAD', load, enums.ESurfTypes.EL_FACE)\n",
    "dc = mk.Coupling(enums.ECouplingTypes.KINEMATIC, pilot, load_surf, 'C1', 2)\n",
    "\n",
    "model.add_model_keywords(\n",
    "    mk.Boundary(sym_x, 1),\n",
    "    mk.Boundary(sym_y, 2),\n",
    "    mk.Boundary(sym_z, 3),\n",
    "    mk.Boundary(pilot, 1),\n",
    "    mk.Boundary(pilot, 3,6),\n",
    "    mat, el, sos,\n",
    "    dc\n",
    ")"
   ]
  },
  {
   "cell_type": "code",
   "execution_count": null,
   "metadata": {},
   "outputs": [],
   "source": [
    "# add step and step keywords\n",
    "step = sk.Step()\n",
    "step.add_step_keywords(\n",
    "    sk.Static(),\n",
    "    sk.Cload(pilot, 2, 1),\n",
    "    sk.NodeFile([enums.ENodeFileResults.U]),\n",
    "    sk.ElFile([enums.EElFileResults.S]),\n",
    "    sk.ElPrint(elset, [enums.EElPrintResults.S, enums.EElPrintResults.EVOL])\n",
    ")\n",
    "model.add_steps(step)"
   ]
  },
  {
   "cell_type": "code",
   "execution_count": null,
   "metadata": {},
   "outputs": [],
   "source": [
    "# solve the model and show results in cgx\n",
    "model.solve(no_cpu=3)\n",
    "model.show_results_in_cgx()"
   ]
  },
  {
   "cell_type": "markdown",
   "metadata": {},
   "source": [
    "<img src=\"stress.png\">"
   ]
  },
  {
   "cell_type": "code",
   "execution_count": null,
   "metadata": {},
   "outputs": [],
   "source": [
    "# get result objects from dat file\n",
    "dat_result = model.get_dat_result()\n",
    "# result object containing all results in dat file\n",
    "\n",
    "stress_result = dat_result.get_result_sets_by(entity=enums.EDatEntities.S, step_time=1)[0]\n",
    "# result set object containing all stress values for time 1.0\n",
    "# stress_result.values is a dict with key = eid and value = m x n array\n",
    "# with m = number of int. pnts and n = stress components\n",
    "\n",
    "volume_result = dat_result.get_result_sets_by(entity=enums.EDatEntities.EVOL, step_time=1)[0]\n",
    "# result set object containing all volume values for time 1.0\n",
    "# volume_result.values is a dict with key = eid and value = 1 x 1 array\n",
    "# containing the volume"
   ]
  },
  {
   "cell_type": "code",
   "execution_count": null,
   "metadata": {},
   "outputs": [],
   "source": [
    "# calculate mises stress for all elements and integration points          \n",
    "s_mises = {eid: st.get_mises_stress(s) for eid, s in stress_result.values.items()}\n",
    "\n",
    "# get max mises stress of all int.pnts\n",
    "s_mises_max = max(np.max(s) for s in s_mises.values())\n",
    "\n",
    "print('Max. mises stress sig_eqv,max=', s_mises_max)\n"
   ]
  },
  {
   "cell_type": "code",
   "execution_count": null,
   "metadata": {},
   "outputs": [],
   "source": [
    "# calculate equivalent stressed volume\n",
    "v_eqv = 0.\n",
    "for eid, v in volume_result.values.items():\n",
    "    s = s_mises[eid] # s = vector with len = no int. pnts\n",
    "    # it is assumed, that the volume for each int. pnt is equal to the \n",
    "    # element volume divided by the number of int. pnts\n",
    "    v_i = v / len(s)\n",
    "    # equivalent volume for element eid\n",
    "    v_eqv_e = np.sum((s / s_mises_max)**30 * v_i)\n",
    "    # add to total\n",
    "    v_eqv += v_eqv_e\n",
    "\n",
    "# Equivalent volume has to be multiplied by 8, because only 1/8\n",
    "# of the specimen was modeled\n",
    "v_eqv *= 8\n",
    "print('Equivalent stressed volume V_eqv =', v_eqv)"
   ]
  }
 ],
 "metadata": {
  "kernelspec": {
   "display_name": "venv310",
   "language": "python",
   "name": "python3"
  },
  "language_info": {
   "codemirror_mode": {
    "name": "ipython",
    "version": 3
   },
   "file_extension": ".py",
   "mimetype": "text/x-python",
   "name": "python",
   "nbconvert_exporter": "python",
   "pygments_lexer": "ipython3",
   "version": "3.10.11"
  },
  "orig_nbformat": 4
 },
 "nbformat": 4,
 "nbformat_minor": 2
}
